{
  "nbformat": 4,
  "nbformat_minor": 0,
  "metadata": {
    "colab": {
      "name": "Final_PySpark_code_creating_dataframe_from_api.ipynb",
      "provenance": [],
      "collapsed_sections": [],
      "authorship_tag": "ABX9TyOoAYtj5juz4aLlz1bvKfgu",
      "include_colab_link": true
    },
    "kernelspec": {
      "name": "python3",
      "display_name": "Python 3"
    },
    "language_info": {
      "name": "python"
    }
  },
  "cells": [
    {
      "cell_type": "markdown",
      "metadata": {
        "id": "view-in-github",
        "colab_type": "text"
      },
      "source": [
        "<a href=\"https://colab.research.google.com/github/avhadrohini163/RICE_Final_Project/blob/main/Final_PySpark_code_creating_dataframe_from_api.ipynb\" target=\"_parent\"><img src=\"https://colab.research.google.com/assets/colab-badge.svg\" alt=\"Open In Colab\"/></a>"
      ]
    },
    {
      "cell_type": "code",
      "execution_count": 2,
      "metadata": {
        "colab": {
          "base_uri": "https://localhost:8080/"
        },
        "id": "7RW13-i58rXA",
        "outputId": "40316bc3-3749-42dc-c368-5cce67a48fc8"
      },
      "outputs": [
        {
          "output_type": "stream",
          "name": "stdout",
          "text": [
            "\r0% [Working]\r            \rIgn:1 https://developer.download.nvidia.com/compute/cuda/repos/ubuntu1804/x86_64  InRelease\n",
            "\r0% [Connecting to archive.ubuntu.com (91.189.91.38)] [Connecting to security.ub\r                                                                               \rIgn:2 https://developer.download.nvidia.com/compute/machine-learning/repos/ubuntu1804/x86_64  InRelease\n",
            "\r0% [Connecting to archive.ubuntu.com (91.189.91.38)] [Connecting to security.ub\r                                                                               \rGet:3 https://developer.download.nvidia.com/compute/cuda/repos/ubuntu1804/x86_64  Release [696 B]\n",
            "\r0% [Connecting to archive.ubuntu.com (91.189.91.38)] [Connecting to security.ub\r0% [Connecting to archive.ubuntu.com (91.189.91.38)] [Connecting to security.ub\r                                                                               \rGet:4 https://cloud.r-project.org/bin/linux/ubuntu bionic-cran40/ InRelease [3,626 B]\n",
            "\r0% [Connecting to archive.ubuntu.com (91.189.91.38)] [Connecting to security.ub\r0% [Connecting to archive.ubuntu.com (91.189.91.38)] [Connecting to security.ub\r                                                                               \rHit:5 https://developer.download.nvidia.com/compute/machine-learning/repos/ubuntu1804/x86_64  Release\n",
            "\r0% [Connecting to archive.ubuntu.com (91.189.91.38)] [Connecting to security.ub\r0% [4 InRelease gpgv 3,626 B] [Connecting to archive.ubuntu.com (91.189.91.38)]\r                                                                               \rGet:6 https://developer.download.nvidia.com/compute/cuda/repos/ubuntu1804/x86_64  Release.gpg [836 B]\n",
            "Hit:7 http://archive.ubuntu.com/ubuntu bionic InRelease\n",
            "Get:8 http://security.ubuntu.com/ubuntu bionic-security InRelease [88.7 kB]\n",
            "Get:9 http://archive.ubuntu.com/ubuntu bionic-updates InRelease [88.7 kB]\n",
            "Get:10 https://cloud.r-project.org/bin/linux/ubuntu bionic-cran40/ Packages [80.4 kB]\n",
            "Get:11 http://ppa.launchpad.net/c2d4u.team/c2d4u4.0+/ubuntu bionic InRelease [15.9 kB]\n",
            "Get:13 http://archive.ubuntu.com/ubuntu bionic-backports InRelease [74.6 kB]\n",
            "Get:14 https://developer.download.nvidia.com/compute/cuda/repos/ubuntu1804/x86_64  Packages [931 kB]\n",
            "Hit:15 http://ppa.launchpad.net/cran/libgit2/ubuntu bionic InRelease\n",
            "Get:16 http://ppa.launchpad.net/deadsnakes/ppa/ubuntu bionic InRelease [15.9 kB]\n",
            "Get:17 http://archive.ubuntu.com/ubuntu bionic-updates/main amd64 Packages [3,067 kB]\n",
            "Hit:18 http://ppa.launchpad.net/graphics-drivers/ppa/ubuntu bionic InRelease\n",
            "Get:19 http://security.ubuntu.com/ubuntu bionic-security/universe amd64 Packages [1,479 kB]\n",
            "Get:20 http://ppa.launchpad.net/c2d4u.team/c2d4u4.0+/ubuntu bionic/main Sources [1,827 kB]\n",
            "Get:21 http://archive.ubuntu.com/ubuntu bionic-updates/universe amd64 Packages [2,257 kB]\n",
            "Get:22 http://security.ubuntu.com/ubuntu bionic-security/main amd64 Packages [2,628 kB]\n",
            "Get:23 http://ppa.launchpad.net/c2d4u.team/c2d4u4.0+/ubuntu bionic/main amd64 Packages [936 kB]\n",
            "Get:24 http://ppa.launchpad.net/deadsnakes/ppa/ubuntu bionic/main amd64 Packages [45.2 kB]\n",
            "Fetched 13.5 MB in 4s (3,071 kB/s)\n",
            "Reading package lists... Done\n"
          ]
        }
      ],
      "source": [
        "import os\n",
        "# Find the latest version of spark 3.0 from http://www.apache.org/dist/spark/ and enter as the spark version\n",
        "# For example:\n",
        "# spark_version = 'spark-3.0.3'\n",
        "spark_version = 'spark-3.0.3'\n",
        "os.environ['SPARK_VERSION']=spark_version\n",
        "\n",
        "# Install Spark and Java\n",
        "!apt-get update\n",
        "!apt-get install openjdk-11-jdk-headless -qq > /dev/null\n",
        "!wget -q http://www.apache.org/dist/spark/$SPARK_VERSION/$SPARK_VERSION-bin-hadoop2.7.tgz\n",
        "!tar xf $SPARK_VERSION-bin-hadoop2.7.tgz\n",
        "!pip install -q findspark\n",
        "\n",
        "# Set Environment Variables\n",
        "import os\n",
        "os.environ[\"JAVA_HOME\"] = \"/usr/lib/jvm/java-11-openjdk-amd64\"\n",
        "os.environ[\"SPARK_HOME\"] = f\"/content/{spark_version}-bin-hadoop2.7\"\n",
        "\n",
        "# Start a SparkSession\n",
        "import findspark\n",
        "findspark.init()"
      ]
    },
    {
      "cell_type": "code",
      "source": [
        "# Download the Postgres driver that will allow Spark to interact with Postgres.\n",
        "!wget https://jdbc.postgresql.org/download/postgresql-42.2.16.jar"
      ],
      "metadata": {
        "colab": {
          "base_uri": "https://localhost:8080/"
        },
        "id": "1f8BlKld9HO2",
        "outputId": "9b3a1fde-b64f-4788-9868-005ee83bee68"
      },
      "execution_count": 3,
      "outputs": [
        {
          "output_type": "stream",
          "name": "stdout",
          "text": [
            "--2022-03-19 01:14:41--  https://jdbc.postgresql.org/download/postgresql-42.2.16.jar\n",
            "Resolving jdbc.postgresql.org (jdbc.postgresql.org)... 72.32.157.228, 2001:4800:3e1:1::228\n",
            "Connecting to jdbc.postgresql.org (jdbc.postgresql.org)|72.32.157.228|:443... connected.\n",
            "HTTP request sent, awaiting response... 200 OK\n",
            "Length: 1002883 (979K) [application/java-archive]\n",
            "Saving to: ‘postgresql-42.2.16.jar’\n",
            "\n",
            "postgresql-42.2.16. 100%[===================>] 979.38K  6.01MB/s    in 0.2s    \n",
            "\n",
            "2022-03-19 01:14:42 (6.01 MB/s) - ‘postgresql-42.2.16.jar’ saved [1002883/1002883]\n",
            "\n"
          ]
        }
      ]
    },
    {
      "cell_type": "code",
      "source": [
        "\n",
        "# Start Spark session\n",
        "from pyspark.sql import SparkSession, types\n",
        "spark = SparkSession.builder.appName(\"RICE_Project\").getOrCreate()\n",
        "\n",
        "\n"
      ],
      "metadata": {
        "id": "_8AwGXTa9HQy"
      },
      "execution_count": 4,
      "outputs": []
    },
    {
      "cell_type": "code",
      "source": [
        "# Start a SparkSession\n",
        "import findspark\n",
        "import requests\n",
        "import json\n",
        "import sys\n",
        "from pyspark.sql.functions import *\n",
        "from pyspark.sql import functions as sf\n",
        "from pyspark.sql.types import StructType, StructField, IntegerType, StringType, ArrayType\n",
        "import datetime as dt\n",
        "from pyspark.sql import SparkSession\n",
        "from pyspark import *\n",
        "from pyspark.context import SparkContext\n",
        "import pandas as pd\n",
        "import pyspark\n",
        "from urllib.request import Request,urlopen\n",
        "\n",
        "\n",
        "\n"
      ],
      "metadata": {
        "id": "yunsaaLc9HS7"
      },
      "execution_count": 6,
      "outputs": []
    },
    {
      "cell_type": "code",
      "source": [
        "spark = SparkSession.builder.appName(\"project\").config(\"spark.driver.extraClassPath\",\"/content/postgresql-42.2.16.jar\").getOrCreate()"
      ],
      "metadata": {
        "id": "Q6JeF6gL9HVD"
      },
      "execution_count": 7,
      "outputs": []
    },
    {
      "cell_type": "code",
      "source": [
        "http=urlopen('https://api.covid19api.com/summary').read().decode('utf-8')"
      ],
      "metadata": {
        "id": "zZ8iIF8L9HXl"
      },
      "execution_count": 8,
      "outputs": []
    },
    {
      "cell_type": "code",
      "source": [
        "df_2 = spark.sparkContext.parallelize([http])\n",
        "df = spark.read.json(df_2)\n",
        "df.show()"
      ],
      "metadata": {
        "colab": {
          "base_uri": "https://localhost:8080/"
        },
        "id": "SYiQ7oAh9HaG",
        "outputId": "afe77ba2-d9d1-4397-c897-edc1e2bfa899"
      },
      "execution_count": 9,
      "outputs": [
        {
          "output_type": "stream",
          "name": "stdout",
          "text": [
            "+--------------------+--------------------+--------------------+--------------------+-------+\n",
            "|           Countries|                Date|              Global|                  ID|Message|\n",
            "+--------------------+--------------------+--------------------+--------------------+-------+\n",
            "|[[Afghanistan, AF...|2022-03-19T00:22:...|[2022-03-19T00:22...|8d657c6c-67c2-4c8...|       |\n",
            "+--------------------+--------------------+--------------------+--------------------+-------+\n",
            "\n"
          ]
        }
      ]
    },
    {
      "cell_type": "code",
      "source": [
        "df.printSchema()"
      ],
      "metadata": {
        "colab": {
          "base_uri": "https://localhost:8080/"
        },
        "id": "8S--EJ7w9Hcx",
        "outputId": "302bf32e-5b4b-4514-fc88-9ad56a45d83d"
      },
      "execution_count": 10,
      "outputs": [
        {
          "output_type": "stream",
          "name": "stdout",
          "text": [
            "root\n",
            " |-- Countries: array (nullable = true)\n",
            " |    |-- element: struct (containsNull = true)\n",
            " |    |    |-- Country: string (nullable = true)\n",
            " |    |    |-- CountryCode: string (nullable = true)\n",
            " |    |    |-- Date: string (nullable = true)\n",
            " |    |    |-- ID: string (nullable = true)\n",
            " |    |    |-- NewConfirmed: long (nullable = true)\n",
            " |    |    |-- NewDeaths: long (nullable = true)\n",
            " |    |    |-- NewRecovered: long (nullable = true)\n",
            " |    |    |-- Slug: string (nullable = true)\n",
            " |    |    |-- TotalConfirmed: long (nullable = true)\n",
            " |    |    |-- TotalDeaths: long (nullable = true)\n",
            " |    |    |-- TotalRecovered: long (nullable = true)\n",
            " |-- Date: string (nullable = true)\n",
            " |-- Global: struct (nullable = true)\n",
            " |    |-- Date: string (nullable = true)\n",
            " |    |-- NewConfirmed: long (nullable = true)\n",
            " |    |-- NewDeaths: long (nullable = true)\n",
            " |    |-- NewRecovered: long (nullable = true)\n",
            " |    |-- TotalConfirmed: long (nullable = true)\n",
            " |    |-- TotalDeaths: long (nullable = true)\n",
            " |    |-- TotalRecovered: long (nullable = true)\n",
            " |-- ID: string (nullable = true)\n",
            " |-- Message: string (nullable = true)\n",
            "\n"
          ]
        }
      ]
    },
    {
      "cell_type": "code",
      "source": [
        "df.withColumn('Countries',sf.explode(sf.col('Countries'))).select(['Countries.Country','Countries.CountryCode','Countries.Date','Countries.ID','Countries.NewConfirmed','Countries.NewDeaths','Countries.NewRecovered','Countries.TotalConfirmed','Countries.TotalDeaths','Countries.TotalRecovered']).show()"
      ],
      "metadata": {
        "colab": {
          "base_uri": "https://localhost:8080/"
        },
        "id": "lEBd6ZQS9Hf9",
        "outputId": "ab6675ae-124c-4802-cd65-d4d9c1731f4d"
      },
      "execution_count": 11,
      "outputs": [
        {
          "output_type": "stream",
          "name": "stdout",
          "text": [
            "+-------------------+-----------+--------------------+--------------------+------------+---------+------------+--------------+-----------+--------------+\n",
            "|            Country|CountryCode|                Date|                  ID|NewConfirmed|NewDeaths|NewRecovered|TotalConfirmed|TotalDeaths|TotalRecovered|\n",
            "+-------------------+-----------+--------------------+--------------------+------------+---------+------------+--------------+-----------+--------------+\n",
            "|        Afghanistan|         AF|2022-03-19T00:22:...|b4ddfb0a-22b0-4c4...|         175|        0|           0|        176918|       7651|             0|\n",
            "|            Albania|         AL|2022-03-19T00:22:...|d46d4ff8-7735-426...|          81|        0|           0|        272885|       3487|             0|\n",
            "|            Algeria|         DZ|2022-03-19T00:22:...|8b46d537-d7da-493...|          15|        1|           0|        265511|       6870|             0|\n",
            "|            Andorra|         AD|2022-03-19T00:22:...|fddebe73-776a-441...|         440|        1|           0|         39234|        153|             0|\n",
            "|             Angola|         AO|2022-03-19T00:22:...|abfad53a-b825-4ad...|          18|        0|           0|         99003|       1900|             0|\n",
            "|         Antarctica|         AQ|2022-03-19T00:22:...|7fd9908f-be6d-4e6...|           0|        0|           0|            11|          0|             0|\n",
            "|Antigua and Barbuda|         AG|2022-03-19T00:22:...|3e2204dc-0739-453...|           0|        0|           0|          7470|        135|             0|\n",
            "|          Argentina|         AR|2022-03-19T00:22:...|2745d67a-319c-476...|        4577|       29|           0|       8990413|     127363|             0|\n",
            "|            Armenia|         AM|2022-03-19T00:22:...|0087b87a-8d53-467...|          47|        2|           0|        422202|       8589|             0|\n",
            "|          Australia|         AU|2022-03-19T00:22:...|fa55a521-d0d7-491...|       49166|       29|           0|       3812332|       5691|             0|\n",
            "|            Austria|         AT|2022-03-19T00:22:...|f0a4d6e5-dfe0-482...|       52045|       31|           0|       3335900|      15320|             0|\n",
            "|         Azerbaijan|         AZ|2022-03-19T00:22:...|6870b107-81b2-494...|           0|        0|           0|        791077|       9633|             0|\n",
            "|            Bahamas|         BS|2022-03-19T00:22:...|c38b5a39-58b8-425...|           0|        0|           0|         33206|        773|             0|\n",
            "|            Bahrain|         BH|2022-03-19T00:22:...|0724cc91-cded-417...|        1121|        0|           0|        542305|       1464|             0|\n",
            "|         Bangladesh|         BD|2022-03-19T00:22:...|5a252198-071d-4be...|         233|        0|           0|       1950357|      29112|             0|\n",
            "|           Barbados|         BB|2022-03-19T00:22:...|70f4896c-e52a-420...|         103|        0|           0|         57451|        326|             0|\n",
            "|            Belarus|         BY|2022-03-19T00:22:...|70671fec-ee3e-407...|        1789|       10|           0|        946674|       6698|             0|\n",
            "|            Belgium|         BE|2022-03-19T00:22:...|b9c0b0e1-5d07-491...|       12275|       18|           0|       3696059|      30510|             0|\n",
            "|             Belize|         BZ|2022-03-19T00:22:...|8aef4628-c31f-402...|          18|        0|           0|         57131|        652|             0|\n",
            "|              Benin|         BJ|2022-03-19T00:22:...|02e04a85-1215-43f...|           0|        0|           0|         26952|        163|             0|\n",
            "+-------------------+-----------+--------------------+--------------------+------------+---------+------------+--------------+-----------+--------------+\n",
            "only showing top 20 rows\n",
            "\n"
          ]
        }
      ]
    },
    {
      "cell_type": "code",
      "source": [
        "\n"
      ],
      "metadata": {
        "id": "DsNddIlL6vXN"
      },
      "execution_count": 14,
      "outputs": []
    }
  ]
}